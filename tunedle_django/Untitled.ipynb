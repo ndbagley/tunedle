{
 "cells": [
  {
   "cell_type": "code",
   "execution_count": 19,
   "id": "8b165691",
   "metadata": {},
   "outputs": [
    {
     "name": "stdout",
     "output_type": "stream",
     "text": [
      "Original date and time object: 2023-06-07 16:31:24.368292\n",
      "Date and Time in Integer Format: 202367\n"
     ]
    }
   ],
   "source": [
    "import datetime\n",
    " \n",
    "# Getting todays date and time using now() of\n",
    "# datetime class\n",
    "current_date = datetime.datetime.now()\n",
    " \n",
    "# Printing the current_date as the date object itself.\n",
    "print(\"Original date and time object:\", current_date)\n",
    " \n",
    "# Retrieving each component of the date\n",
    "# i.e year,month,day,hour,minute,second and\n",
    "# Multiplying with multiples of 100\n",
    "# year - 10000000000\n",
    "# month - 100000000\n",
    "# day - 1000000\n",
    "# hour - 10000\n",
    "# minute - 100\n",
    "print(\"Date and Time in Integer Format:\",\n",
    "      current_date.year*100 +\n",
    "      current_date.month * 10 +\n",
    "      current_date.day)"
   ]
  },
  {
   "cell_type": "code",
   "execution_count": null,
   "id": "156363b2",
   "metadata": {},
   "outputs": [],
   "source": [
    "\n",
    "list(c.keys())[0]"
   ]
  },
  {
   "cell_type": "code",
   "execution_count": 7,
   "id": "e4663acb",
   "metadata": {},
   "outputs": [
    {
     "name": "stdout",
     "output_type": "stream",
     "text": [
      "Original date and time object: <built-in method now of type object at 0x10e2efb68>\n"
     ]
    },
    {
     "ename": "AttributeError",
     "evalue": "'builtin_function_or_method' object has no attribute 'year'",
     "output_type": "error",
     "traceback": [
      "\u001b[0;31m---------------------------------------------------------------------------\u001b[0m",
      "\u001b[0;31mAttributeError\u001b[0m                            Traceback (most recent call last)",
      "\u001b[0;32m/var/folders/mp/rh6p883n7g5b5g8rz3p4104h0000gn/T/ipykernel_58349/4017372585.py\u001b[0m in \u001b[0;36m<module>\u001b[0;34m\u001b[0m\n\u001b[0;32m----> 1\u001b[0;31m \u001b[0mgetdate\u001b[0m\u001b[0;34m(\u001b[0m\u001b[0;34m)\u001b[0m\u001b[0;34m\u001b[0m\u001b[0;34m\u001b[0m\u001b[0m\n\u001b[0m",
      "\u001b[0;32m/var/folders/mp/rh6p883n7g5b5g8rz3p4104h0000gn/T/ipykernel_58349/1592039282.py\u001b[0m in \u001b[0;36mgetdate\u001b[0;34m()\u001b[0m\n\u001b[1;32m     12\u001b[0m     \u001b[0;31m# day - 1000000\u001b[0m\u001b[0;34m\u001b[0m\u001b[0;34m\u001b[0m\u001b[0m\n\u001b[1;32m     13\u001b[0m     print(\"Date and Time in Integer Format:\",\n\u001b[0;32m---> 14\u001b[0;31m           \u001b[0mcurrent_date\u001b[0m\u001b[0;34m.\u001b[0m\u001b[0myear\u001b[0m\u001b[0;34m*\u001b[0m\u001b[0;36m10000000000\u001b[0m \u001b[0;34m+\u001b[0m\u001b[0;34m\u001b[0m\u001b[0;34m\u001b[0m\u001b[0m\n\u001b[0m\u001b[1;32m     15\u001b[0m           \u001b[0mcurrent_date\u001b[0m\u001b[0;34m.\u001b[0m\u001b[0mmonth\u001b[0m \u001b[0;34m*\u001b[0m \u001b[0;36m100000000\u001b[0m \u001b[0;34m+\u001b[0m\u001b[0;34m\u001b[0m\u001b[0;34m\u001b[0m\u001b[0m\n\u001b[1;32m     16\u001b[0m           current_date.day * 1000000)\n",
      "\u001b[0;31mAttributeError\u001b[0m: 'builtin_function_or_method' object has no attribute 'year'"
     ]
    }
   ],
   "source": [
    "for key, value in enumerate(c):\n",
    "    "
   ]
  },
  {
   "cell_type": "code",
   "execution_count": null,
   "id": "555b05a9",
   "metadata": {},
   "outputs": [],
   "source": []
  }
 ],
 "metadata": {
  "kernelspec": {
   "display_name": "Python 3 (ipykernel)",
   "language": "python",
   "name": "python3"
  },
  "language_info": {
   "codemirror_mode": {
    "name": "ipython",
    "version": 3
   },
   "file_extension": ".py",
   "mimetype": "text/x-python",
   "name": "python",
   "nbconvert_exporter": "python",
   "pygments_lexer": "ipython3",
   "version": "3.9.7"
  }
 },
 "nbformat": 4,
 "nbformat_minor": 5
}
